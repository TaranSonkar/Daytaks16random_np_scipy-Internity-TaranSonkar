{
  "nbformat": 4,
  "nbformat_minor": 0,
  "metadata": {
    "colab": {
      "name": "Daytaks16random np/scipy.ipynb",
      "provenance": []
    },
    "kernelspec": {
      "name": "python3",
      "display_name": "Python 3"
    },
    "language_info": {
      "name": "python"
    }
  },
  "cells": [
    {
      "cell_type": "markdown",
      "metadata": {
        "id": "ZKeKivnflKry"
      },
      "source": [
        "#**Descriptive Statistics**\n",
        "\n",
        "A descriptive statistic is a summary statistic that quantitatively describes or summarizes features from a collection of information, while descriptive statistics is the process of using and analysing those statistics.\n",
        "\n",
        "Like As--\n",
        "Mean, Median, Mode, Variance, Standar diviation, Percentile"
      ]
    },
    {
      "cell_type": "markdown",
      "metadata": {
        "id": "MjvDwGs-miiE"
      },
      "source": [
        "#**Import Lib.**"
      ]
    },
    {
      "cell_type": "code",
      "metadata": {
        "id": "ou_QHFhompgM"
      },
      "source": [
        "import numpy as np\n",
        "import pandas as pd\n",
        "from pandas import DataFrame"
      ],
      "execution_count": 1,
      "outputs": []
    },
    {
      "cell_type": "markdown",
      "metadata": {
        "id": "H8rI8PD2mYtN"
      },
      "source": [
        "#**Creating a DataSet**"
      ]
    },
    {
      "cell_type": "code",
      "metadata": {
        "id": "UpRg8m0Hk6RC"
      },
      "source": [
        "data={'RAM':[75,80,85,90,95],'SURAJ':[65,70,80,85,82],'GEETA':[80,90,70,60,75],'SUMIT':[50,60,70,80,65]}"
      ],
      "execution_count": 45,
      "outputs": []
    },
    {
      "cell_type": "code",
      "metadata": {
        "colab": {
          "base_uri": "https://localhost:8080/",
          "height": 204
        },
        "id": "8cKJjSN_nw7D",
        "outputId": "d9322d61-0b22-4577-94e4-4435c5752c00"
      },
      "source": [
        "df=pd.DataFrame(data,index=['MATH','ENGLISH','COMPUTER SCIENCE','HINDI','BIO'])\n",
        "df"
      ],
      "execution_count": 46,
      "outputs": [
        {
          "output_type": "execute_result",
          "data": {
            "text/html": [
              "<div>\n",
              "<style scoped>\n",
              "    .dataframe tbody tr th:only-of-type {\n",
              "        vertical-align: middle;\n",
              "    }\n",
              "\n",
              "    .dataframe tbody tr th {\n",
              "        vertical-align: top;\n",
              "    }\n",
              "\n",
              "    .dataframe thead th {\n",
              "        text-align: right;\n",
              "    }\n",
              "</style>\n",
              "<table border=\"1\" class=\"dataframe\">\n",
              "  <thead>\n",
              "    <tr style=\"text-align: right;\">\n",
              "      <th></th>\n",
              "      <th>RAM</th>\n",
              "      <th>SURAJ</th>\n",
              "      <th>GEETA</th>\n",
              "      <th>SUMIT</th>\n",
              "    </tr>\n",
              "  </thead>\n",
              "  <tbody>\n",
              "    <tr>\n",
              "      <th>MATH</th>\n",
              "      <td>75</td>\n",
              "      <td>65</td>\n",
              "      <td>80</td>\n",
              "      <td>50</td>\n",
              "    </tr>\n",
              "    <tr>\n",
              "      <th>ENGLISH</th>\n",
              "      <td>80</td>\n",
              "      <td>70</td>\n",
              "      <td>90</td>\n",
              "      <td>60</td>\n",
              "    </tr>\n",
              "    <tr>\n",
              "      <th>COMPUTER SCIENCE</th>\n",
              "      <td>85</td>\n",
              "      <td>80</td>\n",
              "      <td>70</td>\n",
              "      <td>70</td>\n",
              "    </tr>\n",
              "    <tr>\n",
              "      <th>HINDI</th>\n",
              "      <td>90</td>\n",
              "      <td>85</td>\n",
              "      <td>60</td>\n",
              "      <td>80</td>\n",
              "    </tr>\n",
              "    <tr>\n",
              "      <th>BIO</th>\n",
              "      <td>95</td>\n",
              "      <td>82</td>\n",
              "      <td>75</td>\n",
              "      <td>65</td>\n",
              "    </tr>\n",
              "  </tbody>\n",
              "</table>\n",
              "</div>"
            ],
            "text/plain": [
              "                  RAM  SURAJ  GEETA  SUMIT\n",
              "MATH               75     65     80     50\n",
              "ENGLISH            80     70     90     60\n",
              "COMPUTER SCIENCE   85     80     70     70\n",
              "HINDI              90     85     60     80\n",
              "BIO                95     82     75     65"
            ]
          },
          "metadata": {
            "tags": []
          },
          "execution_count": 46
        }
      ]
    },
    {
      "cell_type": "code",
      "metadata": {
        "colab": {
          "base_uri": "https://localhost:8080/",
          "height": 204
        },
        "id": "W5_OvkbenyAI",
        "outputId": "c9ca023a-0173-4414-f913-99f768bbf485"
      },
      "source": [
        "df['VISHAL']=[50,65,90,30,93]\n",
        "df"
      ],
      "execution_count": 48,
      "outputs": [
        {
          "output_type": "execute_result",
          "data": {
            "text/html": [
              "<div>\n",
              "<style scoped>\n",
              "    .dataframe tbody tr th:only-of-type {\n",
              "        vertical-align: middle;\n",
              "    }\n",
              "\n",
              "    .dataframe tbody tr th {\n",
              "        vertical-align: top;\n",
              "    }\n",
              "\n",
              "    .dataframe thead th {\n",
              "        text-align: right;\n",
              "    }\n",
              "</style>\n",
              "<table border=\"1\" class=\"dataframe\">\n",
              "  <thead>\n",
              "    <tr style=\"text-align: right;\">\n",
              "      <th></th>\n",
              "      <th>RAM</th>\n",
              "      <th>SURAJ</th>\n",
              "      <th>GEETA</th>\n",
              "      <th>SUMIT</th>\n",
              "      <th>VISHAL</th>\n",
              "    </tr>\n",
              "  </thead>\n",
              "  <tbody>\n",
              "    <tr>\n",
              "      <th>MATH</th>\n",
              "      <td>75</td>\n",
              "      <td>65</td>\n",
              "      <td>80</td>\n",
              "      <td>50</td>\n",
              "      <td>50</td>\n",
              "    </tr>\n",
              "    <tr>\n",
              "      <th>ENGLISH</th>\n",
              "      <td>80</td>\n",
              "      <td>70</td>\n",
              "      <td>90</td>\n",
              "      <td>60</td>\n",
              "      <td>65</td>\n",
              "    </tr>\n",
              "    <tr>\n",
              "      <th>COMPUTER SCIENCE</th>\n",
              "      <td>85</td>\n",
              "      <td>80</td>\n",
              "      <td>70</td>\n",
              "      <td>70</td>\n",
              "      <td>90</td>\n",
              "    </tr>\n",
              "    <tr>\n",
              "      <th>HINDI</th>\n",
              "      <td>90</td>\n",
              "      <td>85</td>\n",
              "      <td>60</td>\n",
              "      <td>80</td>\n",
              "      <td>30</td>\n",
              "    </tr>\n",
              "    <tr>\n",
              "      <th>BIO</th>\n",
              "      <td>95</td>\n",
              "      <td>82</td>\n",
              "      <td>75</td>\n",
              "      <td>65</td>\n",
              "      <td>93</td>\n",
              "    </tr>\n",
              "  </tbody>\n",
              "</table>\n",
              "</div>"
            ],
            "text/plain": [
              "                  RAM  SURAJ  GEETA  SUMIT  VISHAL\n",
              "MATH               75     65     80     50      50\n",
              "ENGLISH            80     70     90     60      65\n",
              "COMPUTER SCIENCE   85     80     70     70      90\n",
              "HINDI              90     85     60     80      30\n",
              "BIO                95     82     75     65      93"
            ]
          },
          "metadata": {
            "tags": []
          },
          "execution_count": 48
        }
      ]
    },
    {
      "cell_type": "code",
      "metadata": {
        "colab": {
          "base_uri": "https://localhost:8080/",
          "height": 204
        },
        "id": "Xs29EHAkthti",
        "outputId": "f25e58ee-fe97-416e-b88a-52a8849a7a06"
      },
      "source": [
        "col=['RAM']\n",
        "dd=df[col]\n",
        "dd"
      ],
      "execution_count": 49,
      "outputs": [
        {
          "output_type": "execute_result",
          "data": {
            "text/html": [
              "<div>\n",
              "<style scoped>\n",
              "    .dataframe tbody tr th:only-of-type {\n",
              "        vertical-align: middle;\n",
              "    }\n",
              "\n",
              "    .dataframe tbody tr th {\n",
              "        vertical-align: top;\n",
              "    }\n",
              "\n",
              "    .dataframe thead th {\n",
              "        text-align: right;\n",
              "    }\n",
              "</style>\n",
              "<table border=\"1\" class=\"dataframe\">\n",
              "  <thead>\n",
              "    <tr style=\"text-align: right;\">\n",
              "      <th></th>\n",
              "      <th>RAM</th>\n",
              "    </tr>\n",
              "  </thead>\n",
              "  <tbody>\n",
              "    <tr>\n",
              "      <th>MATH</th>\n",
              "      <td>75</td>\n",
              "    </tr>\n",
              "    <tr>\n",
              "      <th>ENGLISH</th>\n",
              "      <td>80</td>\n",
              "    </tr>\n",
              "    <tr>\n",
              "      <th>COMPUTER SCIENCE</th>\n",
              "      <td>85</td>\n",
              "    </tr>\n",
              "    <tr>\n",
              "      <th>HINDI</th>\n",
              "      <td>90</td>\n",
              "    </tr>\n",
              "    <tr>\n",
              "      <th>BIO</th>\n",
              "      <td>95</td>\n",
              "    </tr>\n",
              "  </tbody>\n",
              "</table>\n",
              "</div>"
            ],
            "text/plain": [
              "                  RAM\n",
              "MATH               75\n",
              "ENGLISH            80\n",
              "COMPUTER SCIENCE   85\n",
              "HINDI              90\n",
              "BIO                95"
            ]
          },
          "metadata": {
            "tags": []
          },
          "execution_count": 49
        }
      ]
    },
    {
      "cell_type": "markdown",
      "metadata": {
        "id": "pjQl2-_6yW85"
      },
      "source": [
        "**Find Mean**\n",
        "x=n+n2+n3+.../Total Number\n"
      ]
    },
    {
      "cell_type": "code",
      "metadata": {
        "colab": {
          "base_uri": "https://localhost:8080/"
        },
        "id": "4h80LOfcu1mw",
        "outputId": "413095ea-f3d4-4357-eb2f-62b311950bc5"
      },
      "source": [
        "np.mean(dd)"
      ],
      "execution_count": 50,
      "outputs": [
        {
          "output_type": "execute_result",
          "data": {
            "text/plain": [
              "RAM    85.0\n",
              "dtype: float64"
            ]
          },
          "metadata": {
            "tags": []
          },
          "execution_count": 50
        }
      ]
    },
    {
      "cell_type": "markdown",
      "metadata": {
        "id": "OrGqayer3H0a"
      },
      "source": [
        "**FIND MEDian**\n",
        "\n",
        "odd=n+1/2\n",
        "even=n+1/2 + (n/2+1)term/2"
      ]
    },
    {
      "cell_type": "code",
      "metadata": {
        "colab": {
          "base_uri": "https://localhost:8080/"
        },
        "id": "s_cog56wyL2s",
        "outputId": "53252697-ac76-4304-d697-cb1c9635e20c"
      },
      "source": [
        "np.median(dd)"
      ],
      "execution_count": 51,
      "outputs": [
        {
          "output_type": "execute_result",
          "data": {
            "text/plain": [
              "85.0"
            ]
          },
          "metadata": {
            "tags": []
          },
          "execution_count": 51
        }
      ]
    },
    {
      "cell_type": "markdown",
      "metadata": {
        "id": "D2dq2xFO3jKt"
      },
      "source": [
        "**STANDARD DIV..**"
      ]
    },
    {
      "cell_type": "code",
      "metadata": {
        "colab": {
          "base_uri": "https://localhost:8080/"
        },
        "id": "4IT4nEQd0Qmm",
        "outputId": "b29a375d-8e09-413f-bb85-5939276cd230"
      },
      "source": [
        "np.std(dd)"
      ],
      "execution_count": 52,
      "outputs": [
        {
          "output_type": "execute_result",
          "data": {
            "text/plain": [
              "RAM    7.071068\n",
              "dtype: float64"
            ]
          },
          "metadata": {
            "tags": []
          },
          "execution_count": 52
        }
      ]
    },
    {
      "cell_type": "markdown",
      "metadata": {
        "id": "KUuVvN0M-cWR"
      },
      "source": [
        "**VARIANCE**"
      ]
    },
    {
      "cell_type": "code",
      "metadata": {
        "colab": {
          "base_uri": "https://localhost:8080/"
        },
        "id": "bq5XblZe-i9f",
        "outputId": "3416fd6c-93af-435a-9c81-bd74cf8e781a"
      },
      "source": [
        "np.var(dd)"
      ],
      "execution_count": 55,
      "outputs": [
        {
          "output_type": "execute_result",
          "data": {
            "text/plain": [
              "RAM    50.0\n",
              "dtype: float64"
            ]
          },
          "metadata": {
            "tags": []
          },
          "execution_count": 55
        }
      ]
    },
    {
      "cell_type": "markdown",
      "metadata": {
        "id": "WMg55I6f_4pZ"
      },
      "source": [
        "**percentile**"
      ]
    },
    {
      "cell_type": "code",
      "metadata": {
        "colab": {
          "base_uri": "https://localhost:8080/"
        },
        "id": "Wkhl3dDD_dCZ",
        "outputId": "bcea1e4e-68b1-46c9-a8b8-ab24b5a305f4"
      },
      "source": [
        "print('50%',np.percentile(dd,50))\n",
        "print('75%',np.percentile(dd,75))"
      ],
      "execution_count": 61,
      "outputs": [
        {
          "output_type": "stream",
          "text": [
            "50% 85.0\n",
            "75% 90.0\n"
          ],
          "name": "stdout"
        }
      ]
    },
    {
      "cell_type": "markdown",
      "metadata": {
        "id": "YhMUPFU9DVDp"
      },
      "source": [
        "**MIN**"
      ]
    },
    {
      "cell_type": "code",
      "metadata": {
        "colab": {
          "base_uri": "https://localhost:8080/"
        },
        "id": "2g6XDRSqDY6X",
        "outputId": "537d6636-d239-4e89-92cc-37ce04b36e3b"
      },
      "source": [
        "np.min(dd)"
      ],
      "execution_count": 63,
      "outputs": [
        {
          "output_type": "execute_result",
          "data": {
            "text/plain": [
              "RAM    75\n",
              "dtype: int64"
            ]
          },
          "metadata": {
            "tags": []
          },
          "execution_count": 63
        }
      ]
    },
    {
      "cell_type": "markdown",
      "metadata": {
        "id": "5t0KYxVMDcMJ"
      },
      "source": [
        "**MAX**"
      ]
    },
    {
      "cell_type": "code",
      "metadata": {
        "colab": {
          "base_uri": "https://localhost:8080/"
        },
        "id": "MTGSSoGDDf2k",
        "outputId": "47b32b3c-b0ce-4c12-8a0b-7be8e1816028"
      },
      "source": [
        "np.max(dd)"
      ],
      "execution_count": 64,
      "outputs": [
        {
          "output_type": "execute_result",
          "data": {
            "text/plain": [
              "RAM    95\n",
              "dtype: int64"
            ]
          },
          "metadata": {
            "tags": []
          },
          "execution_count": 64
        }
      ]
    },
    {
      "cell_type": "code",
      "metadata": {
        "colab": {
          "base_uri": "https://localhost:8080/",
          "height": 297
        },
        "id": "Kp8Oily9_9ve",
        "outputId": "b26e243e-fc7d-4aff-c882-a3d9634b6b28"
      },
      "source": [
        "dd.describe()"
      ],
      "execution_count": 62,
      "outputs": [
        {
          "output_type": "execute_result",
          "data": {
            "text/html": [
              "<div>\n",
              "<style scoped>\n",
              "    .dataframe tbody tr th:only-of-type {\n",
              "        vertical-align: middle;\n",
              "    }\n",
              "\n",
              "    .dataframe tbody tr th {\n",
              "        vertical-align: top;\n",
              "    }\n",
              "\n",
              "    .dataframe thead th {\n",
              "        text-align: right;\n",
              "    }\n",
              "</style>\n",
              "<table border=\"1\" class=\"dataframe\">\n",
              "  <thead>\n",
              "    <tr style=\"text-align: right;\">\n",
              "      <th></th>\n",
              "      <th>RAM</th>\n",
              "    </tr>\n",
              "  </thead>\n",
              "  <tbody>\n",
              "    <tr>\n",
              "      <th>count</th>\n",
              "      <td>5.000000</td>\n",
              "    </tr>\n",
              "    <tr>\n",
              "      <th>mean</th>\n",
              "      <td>85.000000</td>\n",
              "    </tr>\n",
              "    <tr>\n",
              "      <th>std</th>\n",
              "      <td>7.905694</td>\n",
              "    </tr>\n",
              "    <tr>\n",
              "      <th>min</th>\n",
              "      <td>75.000000</td>\n",
              "    </tr>\n",
              "    <tr>\n",
              "      <th>25%</th>\n",
              "      <td>80.000000</td>\n",
              "    </tr>\n",
              "    <tr>\n",
              "      <th>50%</th>\n",
              "      <td>85.000000</td>\n",
              "    </tr>\n",
              "    <tr>\n",
              "      <th>75%</th>\n",
              "      <td>90.000000</td>\n",
              "    </tr>\n",
              "    <tr>\n",
              "      <th>max</th>\n",
              "      <td>95.000000</td>\n",
              "    </tr>\n",
              "  </tbody>\n",
              "</table>\n",
              "</div>"
            ],
            "text/plain": [
              "             RAM\n",
              "count   5.000000\n",
              "mean   85.000000\n",
              "std     7.905694\n",
              "min    75.000000\n",
              "25%    80.000000\n",
              "50%    85.000000\n",
              "75%    90.000000\n",
              "max    95.000000"
            ]
          },
          "metadata": {
            "tags": []
          },
          "execution_count": 62
        }
      ]
    },
    {
      "cell_type": "markdown",
      "metadata": {
        "id": "THBNINcvEVFt"
      },
      "source": [
        "#**Random Number with scipy and numpy**"
      ]
    },
    {
      "cell_type": "code",
      "metadata": {
        "id": "FnTKuJBmDRod"
      },
      "source": [
        "import sympy\n",
        "from sympy import *"
      ],
      "execution_count": 65,
      "outputs": []
    },
    {
      "cell_type": "code",
      "metadata": {
        "colab": {
          "base_uri": "https://localhost:8080/"
        },
        "id": "6Oz2tZQrEkbE",
        "outputId": "20d0a4cb-6492-45c9-aac2-eff87957d1bd"
      },
      "source": [
        "rand_num=np.random.randint(2,50,size=5) #size is 5 value\n",
        "rand_num"
      ],
      "execution_count": 69,
      "outputs": [
        {
          "output_type": "execute_result",
          "data": {
            "text/plain": [
              "array([32, 21, 17,  2, 34])"
            ]
          },
          "metadata": {
            "tags": []
          },
          "execution_count": 69
        }
      ]
    },
    {
      "cell_type": "code",
      "metadata": {
        "colab": {
          "base_uri": "https://localhost:8080/"
        },
        "id": "ftWgyZLUEwk1",
        "outputId": "f61c24c4-55a3-4ac1-e015-67176b620eb2"
      },
      "source": [
        "np.random.rand(5)"
      ],
      "execution_count": 74,
      "outputs": [
        {
          "output_type": "execute_result",
          "data": {
            "text/plain": [
              "array([0.92534508, 0.50239531, 0.82695929, 0.72421895, 0.11757328])"
            ]
          },
          "metadata": {
            "tags": []
          },
          "execution_count": 74
        }
      ]
    },
    {
      "cell_type": "code",
      "metadata": {
        "colab": {
          "base_uri": "https://localhost:8080/"
        },
        "id": "GIJPltIqFPsR",
        "outputId": "bef3235f-c889-4413-cdcb-61f80680616d"
      },
      "source": [
        "np.random.rand(5,2)"
      ],
      "execution_count": 75,
      "outputs": [
        {
          "output_type": "execute_result",
          "data": {
            "text/plain": [
              "array([[0.89152136, 0.88621865],\n",
              "       [0.97651574, 0.80665366],\n",
              "       [0.61107118, 0.3671642 ],\n",
              "       [0.43913112, 0.12523129],\n",
              "       [0.81103535, 0.04776198]])"
            ]
          },
          "metadata": {
            "tags": []
          },
          "execution_count": 75
        }
      ]
    },
    {
      "cell_type": "code",
      "metadata": {
        "colab": {
          "base_uri": "https://localhost:8080/"
        },
        "id": "cjy_YzHXGOQd",
        "outputId": "22eb0bfa-e029-4d00-f2ab-9b4f8cae657b"
      },
      "source": [
        "np.random.rand(2,3,2) #last 2 is create 2 matrix"
      ],
      "execution_count": 77,
      "outputs": [
        {
          "output_type": "execute_result",
          "data": {
            "text/plain": [
              "array([[[0.39641896, 0.2876128 ],\n",
              "        [0.44760107, 0.46056453],\n",
              "        [0.89574323, 0.32287522]],\n",
              "\n",
              "       [[0.19356364, 0.86701206],\n",
              "        [0.00104709, 0.48394224],\n",
              "        [0.74644749, 0.1962363 ]]])"
            ]
          },
          "metadata": {
            "tags": []
          },
          "execution_count": 77
        }
      ]
    },
    {
      "cell_type": "code",
      "metadata": {
        "id": "CtKXNFnSGZco"
      },
      "source": [
        "from scipy import stats\n",
        "from scipy.stats import norm"
      ],
      "execution_count": 80,
      "outputs": []
    },
    {
      "cell_type": "code",
      "metadata": {
        "colab": {
          "base_uri": "https://localhost:8080/"
        },
        "id": "RvQs0OtZHlIi",
        "outputId": "beba6e47-e01e-4506-c3ad-e2b6a28bd6e0"
      },
      "source": [
        "print(stats.norm.__doc__)"
      ],
      "execution_count": 81,
      "outputs": [
        {
          "output_type": "stream",
          "text": [
            "A normal continuous random variable.\n",
            "\n",
            "    The location (``loc``) keyword specifies the mean.\n",
            "    The scale (``scale``) keyword specifies the standard deviation.\n",
            "\n",
            "    As an instance of the `rv_continuous` class, `norm` object inherits from it\n",
            "    a collection of generic methods (see below for the full list),\n",
            "    and completes them with details specific for this particular distribution.\n",
            "    \n",
            "    Methods\n",
            "    -------\n",
            "    rvs(loc=0, scale=1, size=1, random_state=None)\n",
            "        Random variates.\n",
            "    pdf(x, loc=0, scale=1)\n",
            "        Probability density function.\n",
            "    logpdf(x, loc=0, scale=1)\n",
            "        Log of the probability density function.\n",
            "    cdf(x, loc=0, scale=1)\n",
            "        Cumulative distribution function.\n",
            "    logcdf(x, loc=0, scale=1)\n",
            "        Log of the cumulative distribution function.\n",
            "    sf(x, loc=0, scale=1)\n",
            "        Survival function  (also defined as ``1 - cdf``, but `sf` is sometimes more accurate).\n",
            "    logsf(x, loc=0, scale=1)\n",
            "        Log of the survival function.\n",
            "    ppf(q, loc=0, scale=1)\n",
            "        Percent point function (inverse of ``cdf`` --- percentiles).\n",
            "    isf(q, loc=0, scale=1)\n",
            "        Inverse survival function (inverse of ``sf``).\n",
            "    moment(n, loc=0, scale=1)\n",
            "        Non-central moment of order n\n",
            "    stats(loc=0, scale=1, moments='mv')\n",
            "        Mean('m'), variance('v'), skew('s'), and/or kurtosis('k').\n",
            "    entropy(loc=0, scale=1)\n",
            "        (Differential) entropy of the RV.\n",
            "    fit(data, loc=0, scale=1)\n",
            "        Parameter estimates for generic data.\n",
            "    expect(func, args=(), loc=0, scale=1, lb=None, ub=None, conditional=False, **kwds)\n",
            "        Expected value of a function (of one argument) with respect to the distribution.\n",
            "    median(loc=0, scale=1)\n",
            "        Median of the distribution.\n",
            "    mean(loc=0, scale=1)\n",
            "        Mean of the distribution.\n",
            "    var(loc=0, scale=1)\n",
            "        Variance of the distribution.\n",
            "    std(loc=0, scale=1)\n",
            "        Standard deviation of the distribution.\n",
            "    interval(alpha, loc=0, scale=1)\n",
            "        Endpoints of the range that contains alpha percent of the distribution\n",
            "\n",
            "    Notes\n",
            "    -----\n",
            "    The probability density function for `norm` is:\n",
            "\n",
            "    .. math::\n",
            "\n",
            "        f(x) = \\frac{\\exp(-x^2/2)}{\\sqrt{2\\pi}}\n",
            "\n",
            "    for a real number :math:`x`.\n",
            "\n",
            "    The probability density above is defined in the \"standardized\" form. To shift\n",
            "    and/or scale the distribution use the ``loc`` and ``scale`` parameters.\n",
            "    Specifically, ``norm.pdf(x, loc, scale)`` is identically\n",
            "    equivalent to ``norm.pdf(y) / scale`` with\n",
            "    ``y = (x - loc) / scale``.\n",
            "\n",
            "    Examples\n",
            "    --------\n",
            "    >>> from scipy.stats import norm\n",
            "    >>> import matplotlib.pyplot as plt\n",
            "    >>> fig, ax = plt.subplots(1, 1)\n",
            "    \n",
            "    Calculate a few first moments:\n",
            "    \n",
            "    \n",
            "    >>> mean, var, skew, kurt = norm.stats(moments='mvsk')\n",
            "    \n",
            "    Display the probability density function (``pdf``):\n",
            "    \n",
            "    >>> x = np.linspace(norm.ppf(0.01),\n",
            "    ...                 norm.ppf(0.99), 100)\n",
            "    >>> ax.plot(x, norm.pdf(x),\n",
            "    ...        'r-', lw=5, alpha=0.6, label='norm pdf')\n",
            "    \n",
            "    Alternatively, the distribution object can be called (as a function)\n",
            "    to fix the shape, location and scale parameters. This returns a \"frozen\"\n",
            "    RV object holding the given parameters fixed.\n",
            "    \n",
            "    Freeze the distribution and display the frozen ``pdf``:\n",
            "    \n",
            "    >>> rv = norm()\n",
            "    >>> ax.plot(x, rv.pdf(x), 'k-', lw=2, label='frozen pdf')\n",
            "    \n",
            "    Check accuracy of ``cdf`` and ``ppf``:\n",
            "    \n",
            "    >>> vals = norm.ppf([0.001, 0.5, 0.999])\n",
            "    >>> np.allclose([0.001, 0.5, 0.999], norm.cdf(vals))\n",
            "    True\n",
            "    \n",
            "    Generate random numbers:\n",
            "    \n",
            "    >>> r = norm.rvs(size=1000)\n",
            "    \n",
            "    And compare the histogram:\n",
            "    \n",
            "    >>> ax.hist(r, density=True, histtype='stepfilled', alpha=0.2)\n",
            "    >>> ax.legend(loc='best', frameon=False)\n",
            "    >>> plt.show()\n",
            "    \n",
            "\n",
            "    \n"
          ],
          "name": "stdout"
        }
      ]
    },
    {
      "cell_type": "code",
      "metadata": {
        "colab": {
          "base_uri": "https://localhost:8080/"
        },
        "id": "B_C9kzuFLlWd",
        "outputId": "d0508cda-b493-4c7c-ed3a-4878e2b586b4"
      },
      "source": [
        "dir(norm())"
      ],
      "execution_count": 83,
      "outputs": [
        {
          "output_type": "execute_result",
          "data": {
            "text/plain": [
              "['__class__',\n",
              " '__delattr__',\n",
              " '__dict__',\n",
              " '__dir__',\n",
              " '__doc__',\n",
              " '__eq__',\n",
              " '__format__',\n",
              " '__ge__',\n",
              " '__getattribute__',\n",
              " '__gt__',\n",
              " '__hash__',\n",
              " '__init__',\n",
              " '__init_subclass__',\n",
              " '__le__',\n",
              " '__lt__',\n",
              " '__module__',\n",
              " '__ne__',\n",
              " '__new__',\n",
              " '__reduce__',\n",
              " '__reduce_ex__',\n",
              " '__repr__',\n",
              " '__setattr__',\n",
              " '__sizeof__',\n",
              " '__str__',\n",
              " '__subclasshook__',\n",
              " '__weakref__',\n",
              " 'a',\n",
              " 'args',\n",
              " 'b',\n",
              " 'cdf',\n",
              " 'dist',\n",
              " 'entropy',\n",
              " 'expect',\n",
              " 'interval',\n",
              " 'isf',\n",
              " 'kwds',\n",
              " 'logcdf',\n",
              " 'logpdf',\n",
              " 'logpmf',\n",
              " 'logsf',\n",
              " 'mean',\n",
              " 'median',\n",
              " 'moment',\n",
              " 'pdf',\n",
              " 'pmf',\n",
              " 'ppf',\n",
              " 'random_state',\n",
              " 'rvs',\n",
              " 'sf',\n",
              " 'stats',\n",
              " 'std',\n",
              " 'support',\n",
              " 'var']"
            ]
          },
          "metadata": {
            "tags": []
          },
          "execution_count": 83
        }
      ]
    },
    {
      "cell_type": "markdown",
      "metadata": {
        "id": "57IA8GdvNySS"
      },
      "source": [
        "**RANDOM NUMBER scipy**"
      ]
    },
    {
      "cell_type": "code",
      "metadata": {
        "colab": {
          "base_uri": "https://localhost:8080/"
        },
        "id": "4SdIgsz5L-qn",
        "outputId": "ac07259a-a6e8-49a5-d451-dc5d26db2a39"
      },
      "source": [
        "norm.rvs(size=5, random_state=25)"
      ],
      "execution_count": 89,
      "outputs": [
        {
          "output_type": "execute_result",
          "data": {
            "text/plain": [
              "array([ 0.22827309,  1.0268903 , -0.83958485, -0.59118152, -0.9568883 ])"
            ]
          },
          "metadata": {
            "tags": []
          },
          "execution_count": 89
        }
      ]
    },
    {
      "cell_type": "code",
      "metadata": {
        "id": "m7Kp3F7VMWXz"
      },
      "source": [
        "a=np.array([2,3,4,5])"
      ],
      "execution_count": 91,
      "outputs": []
    },
    {
      "cell_type": "code",
      "metadata": {
        "colab": {
          "base_uri": "https://localhost:8080/"
        },
        "id": "TMNn30wMOCBx",
        "outputId": "7378d214-2a6d-4e3c-a766-40d924f791aa"
      },
      "source": [
        "norm.stats(np.mean(dd))"
      ],
      "execution_count": 111,
      "outputs": [
        {
          "output_type": "execute_result",
          "data": {
            "text/plain": [
              "(array([85.]), array([1.]))"
            ]
          },
          "metadata": {
            "tags": []
          },
          "execution_count": 111
        }
      ]
    },
    {
      "cell_type": "code",
      "metadata": {
        "colab": {
          "base_uri": "https://localhost:8080/"
        },
        "id": "DaN-tSvLPX7P",
        "outputId": "2ae2f1ab-b87d-4c35-aef2-eddabd3bc3a9"
      },
      "source": [
        "norm.stats(np.std(dd))"
      ],
      "execution_count": 112,
      "outputs": [
        {
          "output_type": "execute_result",
          "data": {
            "text/plain": [
              "(array([7.07106781]), array([1.]))"
            ]
          },
          "metadata": {
            "tags": []
          },
          "execution_count": 112
        }
      ]
    },
    {
      "cell_type": "code",
      "metadata": {
        "colab": {
          "base_uri": "https://localhost:8080/"
        },
        "id": "rKHxcuclWC6B",
        "outputId": "42b93fd7-734a-46b7-c3d2-5ece7cda2506"
      },
      "source": [
        "norm.stats(np.var(dd)) "
      ],
      "execution_count": 113,
      "outputs": [
        {
          "output_type": "execute_result",
          "data": {
            "text/plain": [
              "(array([50.]), array([1.]))"
            ]
          },
          "metadata": {
            "tags": []
          },
          "execution_count": 113
        }
      ]
    },
    {
      "cell_type": "markdown",
      "metadata": {
        "id": "CIjrZTUXj1mc"
      },
      "source": [
        "**random distributions with numpy and scipy.**"
      ]
    },
    {
      "cell_type": "code",
      "metadata": {
        "colab": {
          "base_uri": "https://localhost:8080/"
        },
        "id": "M1fydHKrXAi2",
        "outputId": "fce4bc6c-5934-4ce2-c3b2-a20ae217e1aa"
      },
      "source": [
        "from numpy import random\n",
        "x = random.choice(a, p=[0.1, 0.2, 0.5, 0.2],size=20)  #p is total sum 1\n",
        "x"
      ],
      "execution_count": 135,
      "outputs": [
        {
          "output_type": "execute_result",
          "data": {
            "text/plain": [
              "array([3, 5, 4, 3, 3, 5, 4, 2, 5, 2, 4, 4, 5, 2, 4, 4, 3, 5, 2, 5])"
            ]
          },
          "metadata": {
            "tags": []
          },
          "execution_count": 135
        }
      ]
    },
    {
      "cell_type": "code",
      "metadata": {
        "colab": {
          "base_uri": "https://localhost:8080/"
        },
        "id": "oN30Uh_QaiAf",
        "outputId": "4e6aa285-29f8-45e2-d7ed-508219a69088"
      },
      "source": [
        "c=random.choice(a,p=[0.2,0.4,0.2,0.2],size=6)\n",
        "c"
      ],
      "execution_count": 139,
      "outputs": [
        {
          "output_type": "execute_result",
          "data": {
            "text/plain": [
              "array([5, 3, 3, 4, 2, 2])"
            ]
          },
          "metadata": {
            "tags": []
          },
          "execution_count": 139
        }
      ]
    },
    {
      "cell_type": "code",
      "metadata": {
        "id": "5cKXimk8tfV3"
      },
      "source": [
        "from scipy.stats import alpha\n",
        "import scipy\n",
        "#beta ppf etc."
      ],
      "execution_count": 233,
      "outputs": []
    },
    {
      "cell_type": "code",
      "metadata": {
        "id": "zhKaokA8yfGb"
      },
      "source": [
        "b=3\n"
      ],
      "execution_count": 234,
      "outputs": []
    },
    {
      "cell_type": "code",
      "metadata": {
        "id": "70HL_YtX7z23"
      },
      "source": [
        "r = alpha.rvs(b, size=1000) #rvs random"
      ],
      "execution_count": 235,
      "outputs": []
    },
    {
      "cell_type": "code",
      "metadata": {
        "colab": {
          "base_uri": "https://localhost:8080/",
          "height": 282
        },
        "id": "aEXurklw9yCG",
        "outputId": "c309c1cb-2b36-4e16-e50f-c27e02cfd497"
      },
      "source": [
        "plt.plot(r)"
      ],
      "execution_count": 236,
      "outputs": [
        {
          "output_type": "execute_result",
          "data": {
            "text/plain": [
              "[<matplotlib.lines.Line2D at 0x7f8968b68ed0>]"
            ]
          },
          "metadata": {
            "tags": []
          },
          "execution_count": 236
        },
        {
          "output_type": "display_data",
          "data": {
            "image/png": "[encoded data removed]",
            "text/plain": [
              "<Figure size 432x288 with 1 Axes>"
            ]
          },
          "metadata": {
            "tags": [],
            "needs_background": "light"
          }
        }
      ]
    },
    {
      "cell_type": "code",
      "metadata": {
        "colab": {
          "base_uri": "https://localhost:8080/",
          "height": 401
        },
        "id": "GiRGy3KW-CUg",
        "outputId": "a386838e-9308-4c7a-ed41-27274d59d971"
      },
      "source": [
        "plt.boxplot(r)"
      ],
      "execution_count": 237,
      "outputs": [
        {
          "output_type": "execute_result",
          "data": {
            "text/plain": [
              "{'boxes': [<matplotlib.lines.Line2D at 0x7f8967cec490>],\n",
              " 'caps': [<matplotlib.lines.Line2D at 0x7f8967d19f90>,\n",
              "  <matplotlib.lines.Line2D at 0x7f8967ca2510>],\n",
              " 'fliers': [<matplotlib.lines.Line2D at 0x7f8967ca2fd0>],\n",
              " 'means': [],\n",
              " 'medians': [<matplotlib.lines.Line2D at 0x7f8967ca2a90>],\n",
              " 'whiskers': [<matplotlib.lines.Line2D at 0x7f8967d19510>,\n",
              "  <matplotlib.lines.Line2D at 0x7f8967d19a50>]}"
            ]
          },
          "metadata": {
            "tags": []
          },
          "execution_count": 237
        },
        {
          "output_type": "display_data",
          "data": {
            "image/png": "[encoded data removed]",
            "text/plain": [
              "<Figure size 432x288 with 1 Axes>"
            ]
          },
          "metadata": {
            "tags": [],
            "needs_background": "light"
          }
        }
      ]
    },
    {
      "cell_type": "code",
      "metadata": {
        "id": "E1j6_kGM-2z3"
      },
      "source": [
        ""
      ],
      "execution_count": 237,
      "outputs": []
    }
  ]
}